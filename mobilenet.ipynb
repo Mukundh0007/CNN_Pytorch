{
  "nbformat": 4,
  "nbformat_minor": 0,
  "metadata": {
    "colab": {
      "provenance": [],
      "gpuType": "T4"
    },
    "kernelspec": {
      "name": "python3",
      "display_name": "Python 3"
    },
    "language_info": {
      "name": "python"
    },
    "accelerator": "GPU"
  },
  "cells": [
    {
      "cell_type": "code",
      "execution_count": null,
      "metadata": {
        "colab": {
          "base_uri": "https://localhost:8080/"
        },
        "id": "jBBxOiuPmY3x",
        "outputId": "ff0fa8df-3c5d-4e66-c35d-d4083f962159"
      },
      "outputs": [
        {
          "output_type": "stream",
          "name": "stdout",
          "text": [
            "Drive already mounted at /content/drive; to attempt to forcibly remount, call drive.mount(\"/content/drive\", force_remount=True).\n",
            "/content/drive/MyDrive\n"
          ]
        }
      ],
      "source": [
        "from google.colab import drive\n",
        "drive.mount('/content/drive')\n",
        "%cd '/content/drive/MyDrive/'"
      ]
    },
    {
      "cell_type": "code",
      "source": [
        "import torch\n",
        "import torch.nn as nn\n",
        "import torch.optim as optim\n",
        "import torchvision\n",
        "from torchvision import datasets, transforms,models\n",
        "from torch.utils.data import DataLoader\n",
        "from sklearn.metrics import classification_report\n",
        "import matplotlib.pyplot as plt"
      ],
      "metadata": {
        "id": "FhOc7aewmvHh"
      },
      "execution_count": null,
      "outputs": []
    },
    {
      "cell_type": "code",
      "source": [
        "device = torch.device(\"cuda\" if torch.cuda.is_available() else \"cpu\")\n",
        "device"
      ],
      "metadata": {
        "colab": {
          "base_uri": "https://localhost:8080/"
        },
        "id": "_tAtIwiYmxnt",
        "outputId": "302c4c93-8f06-41e4-97d9-38459366ce37"
      },
      "execution_count": null,
      "outputs": [
        {
          "output_type": "execute_result",
          "data": {
            "text/plain": [
              "device(type='cuda')"
            ]
          },
          "metadata": {},
          "execution_count": 28
        }
      ]
    },
    {
      "cell_type": "code",
      "source": [
        "# Set random seed for reproducibility\n",
        "torch.manual_seed(42)\n",
        "\n",
        "# Define constants\n",
        "IMAGE_SIZE = 224\n",
        "BATCH_SIZE = 32\n",
        "CHANNELS = 3\n",
        "EPOCHS =40\n",
        "n_classes = 4\n",
        "\n",
        "# Define data transformations\n",
        "transform = transforms.Compose([\n",
        "    transforms.Resize((IMAGE_SIZE, IMAGE_SIZE)),\n",
        "    transforms.RandomHorizontalFlip(),\n",
        "    transforms.RandomVerticalFlip(),\n",
        "    transforms.RandomRotation(20),\n",
        "    transforms.ToTensor(),\n",
        "    transforms.Normalize(mean=[0.485, 0.456, 0.406], std=[0.229, 0.224, 0.225])\n",
        "])"
      ],
      "metadata": {
        "id": "vrYHUrk4m0jd"
      },
      "execution_count": null,
      "outputs": []
    },
    {
      "cell_type": "code",
      "source": [
        "\n",
        "# Load the dataset\n",
        "dataset = datasets.ImageFolder(\"data\", transform=transform)\n",
        "class_names = dataset.classes\n",
        "class_names\n"
      ],
      "metadata": {
        "colab": {
          "base_uri": "https://localhost:8080/"
        },
        "id": "3_K2D63Om1xU",
        "outputId": "b939b7d7-0c29-41cb-d838-a9b18909e381"
      },
      "execution_count": null,
      "outputs": [
        {
          "output_type": "execute_result",
          "data": {
            "text/plain": [
              "['Blight', 'Common_Rust', 'Gray_Leaf_Spot', 'Healthy']"
            ]
          },
          "metadata": {},
          "execution_count": 30
        }
      ]
    },
    {
      "cell_type": "code",
      "source": [
        "# Split the dataset into train, validation, and test sets\n",
        "train_size = int(0.8 * len(dataset))\n",
        "val_size = int(0.1 * len(dataset))\n",
        "test_size = len(dataset) - train_size - val_size\n",
        "train_dataset, val_dataset, test_dataset = torch.utils.data.random_split(\n",
        "    dataset, [train_size, val_size, test_size])\n",
        "\n",
        "# Create data loaders\n",
        "train_loader = DataLoader(train_dataset, batch_size=BATCH_SIZE, shuffle=True)\n",
        "val_loader = DataLoader(val_dataset, batch_size=BATCH_SIZE)\n",
        "test_loader = DataLoader(test_dataset, batch_size=BATCH_SIZE)"
      ],
      "metadata": {
        "id": "khdcIBGzm6Nb"
      },
      "execution_count": null,
      "outputs": []
    },
    {
      "cell_type": "code",
      "source": [
        "# # Define the CNN model\n",
        "# class CNN(nn.Module):\n",
        "#     def __init__(self):\n",
        "#         super(CNN, self).__init__()\n",
        "#         self.resiz = nn.Sequential(\n",
        "#             nn.Conv2d(CHANNELS, 32, kernel_size=3, padding=1),  # Adjusted input channels\n",
        "#             nn.BatchNorm2d(32),\n",
        "#             nn.ReLU(inplace=True),\n",
        "#             nn.MaxPool2d(kernel_size=2, stride=2),\n",
        "#         )\n",
        "#         self.features = nn.Sequential(\n",
        "#             nn.Conv2d(32, 64, kernel_size=3, padding=1),\n",
        "#             nn.ReLU(inplace=True),\n",
        "#             nn.MaxPool2d(kernel_size=2, stride=2),\n",
        "#             nn.Conv2d(64, 64, kernel_size=3, padding=1),\n",
        "#             nn.ReLU(inplace=True),\n",
        "#             nn.MaxPool2d(kernel_size=2, stride=2),\n",
        "#         )\n",
        "#         self.classifier = nn.Sequential(\n",
        "#             nn.Linear(64 * 32 * 32, 64),  # Adjusted input size\n",
        "#             nn.ReLU(inplace=True),\n",
        "#             nn.Linear(64, n_classes),\n",
        "#         )\n",
        "\n",
        "#     def forward(self, x):\n",
        "#         x = self.resiz(x)\n",
        "#         x = self.features(x)\n",
        "#         x = x.view(x.size(0), -1)\n",
        "#         x = self.classifier(x)\n",
        "#         return x\n",
        "\n",
        "model = models.mobilenet_v2(pretrained=True)\n",
        "# Modify the classifier to fit your classification task\n",
        "model.classifier[1] = nn.Linear(model.classifier[1].in_features, n_classes)\n",
        "model = model.to(device)"
      ],
      "metadata": {
        "colab": {
          "base_uri": "https://localhost:8080/"
        },
        "id": "warYD39enEco",
        "outputId": "869e70c8-cc58-4f3c-dcda-82180ac0ff75"
      },
      "execution_count": null,
      "outputs": [
        {
          "output_type": "stream",
          "name": "stderr",
          "text": [
            "/usr/local/lib/python3.10/dist-packages/torchvision/models/_utils.py:208: UserWarning: The parameter 'pretrained' is deprecated since 0.13 and may be removed in the future, please use 'weights' instead.\n",
            "  warnings.warn(\n",
            "/usr/local/lib/python3.10/dist-packages/torchvision/models/_utils.py:223: UserWarning: Arguments other than a weight enum or `None` for 'weights' are deprecated since 0.13 and may be removed in the future. The current behavior is equivalent to passing `weights=MobileNet_V2_Weights.IMAGENET1K_V1`. You can also use `weights=MobileNet_V2_Weights.DEFAULT` to get the most up-to-date weights.\n",
            "  warnings.warn(msg)\n"
          ]
        }
      ]
    },
    {
      "cell_type": "code",
      "source": [
        "# Create an instance of the model\n",
        "#model = CNN().to(device)\n",
        "\n",
        "# Define loss function and optimizer\n",
        "criterion = nn.CrossEntropyLoss()\n",
        "optimizer = optim.Adamax(model.parameters())\n",
        "\n",
        "# Training loop\n",
        "train_losses = []\n",
        "val_losses = []"
      ],
      "metadata": {
        "id": "gqmgyZVlnHFq"
      },
      "execution_count": null,
      "outputs": []
    },
    {
      "cell_type": "code",
      "source": [
        "for epoch in range(EPOCHS):\n",
        "    model.train()\n",
        "    running_loss = 0.0\n",
        "    for images, labels in train_loader:\n",
        "        images, labels = images.to(device), labels.to(device)\n",
        "        optimizer.zero_grad()\n",
        "        outputs = model(images)\n",
        "        loss = criterion(outputs, labels)\n",
        "        loss.backward()\n",
        "        optimizer.step()\n",
        "        running_loss += loss.item()\n",
        "    train_losses.append(running_loss / len(train_loader))\n",
        "\n",
        "    model.eval()\n",
        "    val_loss = 0.0\n",
        "    with torch.no_grad():\n",
        "        for images, labels in val_loader:\n",
        "            images, labels = images.to(device), labels.to(device)\n",
        "            outputs = model(images)\n",
        "            loss = criterion(outputs, labels)\n",
        "            val_loss += loss.item()\n",
        "    val_losses.append(val_loss / len(val_loader))\n",
        "\n",
        "    print(f\"Epoch [{epoch + 1}/{EPOCHS}] \"\n",
        "          f\"Train Loss: {train_losses[-1]:.4f} \"\n",
        "          f\"Validation Loss: {val_losses[-1]:.4f}\")"
      ],
      "metadata": {
        "colab": {
          "base_uri": "https://localhost:8080/"
        },
        "id": "YbiftTWonKhc",
        "outputId": "cdb0ddcc-a148-4dae-8788-1d6671033b93"
      },
      "execution_count": null,
      "outputs": [
        {
          "output_type": "stream",
          "name": "stdout",
          "text": [
            "Epoch [1/40] Train Loss: 0.2885 Validation Loss: 0.1659\n",
            "Epoch [2/40] Train Loss: 0.1704 Validation Loss: 0.1304\n",
            "Epoch [3/40] Train Loss: 0.1357 Validation Loss: 0.1364\n",
            "Epoch [4/40] Train Loss: 0.1320 Validation Loss: 0.1291\n",
            "Epoch [5/40] Train Loss: 0.1283 Validation Loss: 0.1211\n",
            "Epoch [6/40] Train Loss: 0.1261 Validation Loss: 0.1312\n",
            "Epoch [7/40] Train Loss: 0.0949 Validation Loss: 0.2739\n",
            "Epoch [8/40] Train Loss: 0.0798 Validation Loss: 0.1398\n",
            "Epoch [9/40] Train Loss: 0.1021 Validation Loss: 0.1340\n",
            "Epoch [10/40] Train Loss: 0.0904 Validation Loss: 0.1039\n",
            "Epoch [11/40] Train Loss: 0.0731 Validation Loss: 0.1465\n",
            "Epoch [12/40] Train Loss: 0.0807 Validation Loss: 0.1164\n",
            "Epoch [13/40] Train Loss: 0.0787 Validation Loss: 0.1190\n",
            "Epoch [14/40] Train Loss: 0.0659 Validation Loss: 0.1136\n",
            "Epoch [15/40] Train Loss: 0.0874 Validation Loss: 0.1844\n",
            "Epoch [16/40] Train Loss: 0.0675 Validation Loss: 0.1954\n",
            "Epoch [17/40] Train Loss: 0.0596 Validation Loss: 0.1019\n",
            "Epoch [18/40] Train Loss: 0.0559 Validation Loss: 0.1971\n",
            "Epoch [19/40] Train Loss: 0.0509 Validation Loss: 0.1340\n",
            "Epoch [20/40] Train Loss: 0.0613 Validation Loss: 0.1163\n",
            "Epoch [21/40] Train Loss: 0.0490 Validation Loss: 0.1294\n",
            "Epoch [22/40] Train Loss: 0.0488 Validation Loss: 0.0991\n",
            "Epoch [23/40] Train Loss: 0.0405 Validation Loss: 0.1889\n",
            "Epoch [24/40] Train Loss: 0.0454 Validation Loss: 0.1764\n",
            "Epoch [25/40] Train Loss: 0.0373 Validation Loss: 0.1350\n",
            "Epoch [26/40] Train Loss: 0.0479 Validation Loss: 0.1412\n",
            "Epoch [27/40] Train Loss: 0.0451 Validation Loss: 0.1342\n",
            "Epoch [28/40] Train Loss: 0.0333 Validation Loss: 0.1397\n",
            "Epoch [29/40] Train Loss: 0.0349 Validation Loss: 0.2045\n",
            "Epoch [30/40] Train Loss: 0.0323 Validation Loss: 0.1503\n",
            "Epoch [31/40] Train Loss: 0.0444 Validation Loss: 0.1446\n",
            "Epoch [32/40] Train Loss: 0.0216 Validation Loss: 0.1404\n",
            "Epoch [33/40] Train Loss: 0.0288 Validation Loss: 0.1228\n",
            "Epoch [34/40] Train Loss: 0.0332 Validation Loss: 0.1468\n",
            "Epoch [35/40] Train Loss: 0.0352 Validation Loss: 0.1634\n",
            "Epoch [36/40] Train Loss: 0.0288 Validation Loss: 0.1261\n",
            "Epoch [37/40] Train Loss: 0.0341 Validation Loss: 0.1336\n",
            "Epoch [38/40] Train Loss: 0.0307 Validation Loss: 0.1688\n",
            "Epoch [39/40] Train Loss: 0.0107 Validation Loss: 0.1749\n",
            "Epoch [40/40] Train Loss: 0.0443 Validation Loss: 0.1755\n"
          ]
        }
      ]
    },
    {
      "cell_type": "code",
      "source": [
        "from sklearn.metrics import classification_report\n",
        "\n",
        "model.eval()\n",
        "correct = 0\n",
        "total = 0\n",
        "# Calculate and print classification report\n",
        "true_labels = []\n",
        "predicted_labels = []\n",
        "with torch.no_grad():\n",
        "    for images, labels in test_loader:\n",
        "        images, labels = images.to(device), labels.to(device)\n",
        "        outputs = model(images)\n",
        "        _, predicted = torch.max(outputs, 1)\n",
        "        total += labels.size(0)\n",
        "        correct += (predicted == labels).sum().item()\n",
        "        predicted_labels.extend(predicted.tolist())\n",
        "        true_labels.extend(labels.tolist())\n",
        "\n",
        "accuracy = 100 * correct / total\n",
        "print(f\"Accuracy on the test set: {accuracy:}%\")\n",
        "\n",
        "\n",
        "report = classification_report(true_labels, predicted_labels, target_names=class_names)\n",
        "print(report)\n"
      ],
      "metadata": {
        "colab": {
          "base_uri": "https://localhost:8080/"
        },
        "id": "Os7sM0GHnOJC",
        "outputId": "cc4570c5-0ad8-4652-d7d7-293c81afab24"
      },
      "execution_count": null,
      "outputs": [
        {
          "output_type": "stream",
          "name": "stdout",
          "text": [
            "Accuracy on the test set: 95.81395348837209%\n",
            "                precision    recall  f1-score   support\n",
            "\n",
            "        Blight       0.96      0.98      0.97       123\n",
            "   Common_Rust       0.99      0.98      0.99       129\n",
            "Gray_Leaf_Spot       0.96      0.95      0.95        55\n",
            "       Healthy       1.00      1.00      1.00       113\n",
            "\n",
            "      accuracy                           0.98       420\n",
            "     macro avg       0.98      0.98      0.98       420\n",
            "  weighted avg       0.98      0.98      0.98       420\n",
            "\n"
          ]
        }
      ]
    }
  ]
}
