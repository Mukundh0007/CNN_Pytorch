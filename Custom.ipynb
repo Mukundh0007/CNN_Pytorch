{
  "nbformat": 4,
  "nbformat_minor": 0,
  "metadata": {
    "colab": {
      "provenance": [],
      "gpuType": "T4"
    },
    "kernelspec": {
      "name": "python3",
      "display_name": "Python 3"
    },
    "language_info": {
      "name": "python"
    },
    "accelerator": "GPU"
  },
  "cells": [
    {
      "cell_type": "code",
      "execution_count": null,
      "metadata": {
        "id": "kZyw-PbjBM0o",
        "colab": {
          "base_uri": "https://localhost:8080/"
        },
        "outputId": "31909caf-8c23-4855-d94e-71398bfcfc87"
      },
      "outputs": [
        {
          "output_type": "stream",
          "name": "stdout",
          "text": [
            "Mounted at /content/drive\n",
            "/content/drive/MyDrive\n"
          ]
        }
      ],
      "source": [
        "from google.colab import drive\n",
        "drive.mount('/content/drive')\n",
        "%cd '/content/drive/MyDrive/'"
      ]
    },
    {
      "cell_type": "code",
      "source": [
        "import torch\n",
        "import torch.nn as nn\n",
        "import torch.optim as optim\n",
        "import torchvision\n",
        "from torchvision import datasets, transforms,models\n",
        "from torch.utils.data import DataLoader\n",
        "from sklearn.metrics import classification_report\n",
        "import matplotlib.pyplot as plt\n",
        "\n"
      ],
      "metadata": {
        "id": "TGIHYu7-BQ6c"
      },
      "execution_count": null,
      "outputs": []
    },
    {
      "cell_type": "code",
      "source": [
        "device = torch.device(\"cuda\" if torch.cuda.is_available() else \"cpu\")\n",
        "device"
      ],
      "metadata": {
        "id": "XBb8tqYWBUe2",
        "colab": {
          "base_uri": "https://localhost:8080/"
        },
        "outputId": "cbea5a09-5992-4f65-f288-c9309f120b83"
      },
      "execution_count": null,
      "outputs": [
        {
          "output_type": "execute_result",
          "data": {
            "text/plain": [
              "device(type='cuda')"
            ]
          },
          "metadata": {},
          "execution_count": 42
        }
      ]
    },
    {
      "cell_type": "code",
      "source": [
        "# Set random seed for reproducibility\n",
        "torch.manual_seed(42)\n",
        "\n",
        "# Define constants\n",
        "IMAGE_SIZE = 256\n",
        "BATCH_SIZE = 32\n",
        "CHANNELS = 3\n",
        "EPOCHS =50\n",
        "n_classes = 4\n",
        "\n",
        "# Define data transformations\n",
        "transform = transforms.Compose([\n",
        "    transforms.Resize((IMAGE_SIZE, IMAGE_SIZE)),\n",
        "    transforms.RandomHorizontalFlip(),\n",
        "    transforms.RandomVerticalFlip(),\n",
        "    transforms.RandomRotation(20),\n",
        "    transforms.ToTensor(),\n",
        "    transforms.Normalize(mean=[0.485, 0.456, 0.406], std=[0.229, 0.224, 0.225])\n",
        "])"
      ],
      "metadata": {
        "id": "QTT29b3zBWlc"
      },
      "execution_count": null,
      "outputs": []
    },
    {
      "cell_type": "code",
      "source": [
        "\n",
        "# Load the dataset\n",
        "dataset = datasets.ImageFolder(\"data\", transform=transform)\n",
        "class_names = dataset.classes\n",
        "class_names\n"
      ],
      "metadata": {
        "id": "PwA2wPEfBZQz",
        "colab": {
          "base_uri": "https://localhost:8080/"
        },
        "outputId": "28f3df88-5fa2-454a-d951-952df8337775"
      },
      "execution_count": null,
      "outputs": [
        {
          "output_type": "execute_result",
          "data": {
            "text/plain": [
              "['Blight', 'Common_Rust', 'Gray_Leaf_Spot', 'Healthy']"
            ]
          },
          "metadata": {},
          "execution_count": 44
        }
      ]
    },
    {
      "cell_type": "code",
      "source": [
        "# Split the dataset into train, validation, and test sets\n",
        "train_size = int(0.8 * len(dataset))\n",
        "val_size = int(0.1 * len(dataset))\n",
        "test_size = len(dataset) - train_size - val_size\n",
        "train_dataset, val_dataset, test_dataset = torch.utils.data.random_split(\n",
        "    dataset, [train_size, val_size, test_size])\n",
        "\n",
        "# Create data loaders\n",
        "train_loader = DataLoader(train_dataset, batch_size=BATCH_SIZE, shuffle=True)\n",
        "val_loader = DataLoader(val_dataset, batch_size=BATCH_SIZE)\n",
        "test_loader = DataLoader(test_dataset, batch_size=BATCH_SIZE)"
      ],
      "metadata": {
        "id": "E10tNS9tBd8S"
      },
      "execution_count": null,
      "outputs": []
    },
    {
      "cell_type": "code",
      "source": [
        "# Define the CNN model\n",
        "class CNN(nn.Module):\n",
        "    def __init__(self):\n",
        "        super(CNN, self).__init__()\n",
        "        self.resiz = nn.Sequential(\n",
        "            nn.Conv2d(CHANNELS, 32, kernel_size=3, padding=1),  # Adjusted input channels\n",
        "            nn.BatchNorm2d(32),\n",
        "            nn.ReLU(inplace=True),\n",
        "            nn.MaxPool2d(kernel_size=2, stride=2),\n",
        "        )\n",
        "        self.features = nn.Sequential(\n",
        "            nn.Conv2d(32, 64, kernel_size=3, padding=1),\n",
        "            nn.ReLU(inplace=True),\n",
        "            nn.MaxPool2d(kernel_size=2, stride=2),\n",
        "            nn.Conv2d(64, 64, kernel_size=3, padding=1),\n",
        "            nn.ReLU(inplace=True),\n",
        "            nn.MaxPool2d(kernel_size=2, stride=2),\n",
        "        )\n",
        "        self.classifier = nn.Sequential(\n",
        "            nn.Linear(64 * 32 * 32, 64),  # Adjusted input size\n",
        "            nn.ReLU(inplace=True),\n",
        "            nn.Linear(64, n_classes),\n",
        "        )\n",
        "\n",
        "    def forward(self, x):\n",
        "        x = self.resiz(x)\n",
        "        x = self.features(x)\n",
        "        x = x.view(x.size(0), -1)\n",
        "        x = self.classifier(x)\n",
        "        return x\n",
        "# Create an instance of the model\n",
        "model = CNN().to(device)\n",
        "\n",
        "# Define loss function and optimizer\n",
        "criterion = nn.CrossEntropyLoss()\n",
        "optimizer = optim.Adamax(model.parameters())\n",
        "\n",
        "# Training loop\n",
        "train_losses = []\n",
        "val_losses = []"
      ],
      "metadata": {
        "id": "cpaS0D8BBgAD"
      },
      "execution_count": null,
      "outputs": []
    },
    {
      "cell_type": "code",
      "source": [
        "for epoch in range(EPOCHS):\n",
        "    model.train()\n",
        "    running_loss = 0.0\n",
        "    for images, labels in train_loader:\n",
        "        images, labels = images.to(device), labels.to(device)\n",
        "        optimizer.zero_grad()\n",
        "        outputs = model(images)\n",
        "        loss = criterion(outputs, labels)\n",
        "        loss.backward()\n",
        "        optimizer.step()\n",
        "        running_loss += loss.item()\n",
        "    train_losses.append(running_loss / len(train_loader))\n",
        "\n",
        "    model.eval()\n",
        "    val_loss = 0.0\n",
        "    with torch.no_grad():\n",
        "        for images, labels in val_loader:\n",
        "            images, labels = images.to(device), labels.to(device)\n",
        "            outputs = model(images)\n",
        "            loss = criterion(outputs, labels)\n",
        "            val_loss += loss.item()\n",
        "    val_losses.append(val_loss / len(val_loader))\n",
        "\n",
        "    print(f\"Epoch [{epoch + 1}/{EPOCHS}] \"\n",
        "          f\"Train Loss: {train_losses[-1]:.4f} \"\n",
        "          f\"Validation Loss: {val_losses[-1]:.4f}\")"
      ],
      "metadata": {
        "id": "FzSWfITPBh2z",
        "colab": {
          "base_uri": "https://localhost:8080/"
        },
        "outputId": "095e77a5-7074-46ad-86da-fd3467fe5b9e"
      },
      "execution_count": null,
      "outputs": [
        {
          "output_type": "stream",
          "name": "stdout",
          "text": [
            "Epoch [1/50] Train Loss: 0.8549 Validation Loss: 0.3985\n",
            "Epoch [2/50] Train Loss: 0.3960 Validation Loss: 0.3628\n",
            "Epoch [3/50] Train Loss: 0.3559 Validation Loss: 0.3311\n",
            "Epoch [4/50] Train Loss: 0.3168 Validation Loss: 0.2893\n",
            "Epoch [5/50] Train Loss: 0.2871 Validation Loss: 0.3326\n",
            "Epoch [6/50] Train Loss: 0.2850 Validation Loss: 0.2938\n",
            "Epoch [7/50] Train Loss: 0.2711 Validation Loss: 0.2715\n",
            "Epoch [8/50] Train Loss: 0.2477 Validation Loss: 0.2616\n",
            "Epoch [9/50] Train Loss: 0.2445 Validation Loss: 0.2700\n",
            "Epoch [10/50] Train Loss: 0.2252 Validation Loss: 0.2517\n",
            "Epoch [11/50] Train Loss: 0.2173 Validation Loss: 0.2593\n",
            "Epoch [12/50] Train Loss: 0.1993 Validation Loss: 0.2456\n",
            "Epoch [13/50] Train Loss: 0.1965 Validation Loss: 0.1993\n",
            "Epoch [14/50] Train Loss: 0.1846 Validation Loss: 0.2381\n",
            "Epoch [15/50] Train Loss: 0.1591 Validation Loss: 0.2235\n",
            "Epoch [16/50] Train Loss: 0.1642 Validation Loss: 0.1892\n",
            "Epoch [17/50] Train Loss: 0.1685 Validation Loss: 0.2366\n",
            "Epoch [18/50] Train Loss: 0.1649 Validation Loss: 0.1892\n",
            "Epoch [19/50] Train Loss: 0.1505 Validation Loss: 0.2220\n",
            "Epoch [20/50] Train Loss: 0.1421 Validation Loss: 0.2466\n",
            "Epoch [21/50] Train Loss: 0.1418 Validation Loss: 0.2099\n",
            "Epoch [22/50] Train Loss: 0.1177 Validation Loss: 0.2057\n",
            "Epoch [23/50] Train Loss: 0.1304 Validation Loss: 0.1985\n",
            "Epoch [24/50] Train Loss: 0.1138 Validation Loss: 0.1865\n",
            "Epoch [25/50] Train Loss: 0.1088 Validation Loss: 0.1761\n",
            "Epoch [26/50] Train Loss: 0.1166 Validation Loss: 0.2399\n",
            "Epoch [27/50] Train Loss: 0.1100 Validation Loss: 0.2264\n",
            "Epoch [28/50] Train Loss: 0.0949 Validation Loss: 0.1673\n",
            "Epoch [29/50] Train Loss: 0.1043 Validation Loss: 0.2241\n",
            "Epoch [30/50] Train Loss: 0.0839 Validation Loss: 0.2077\n",
            "Epoch [31/50] Train Loss: 0.0865 Validation Loss: 0.2699\n",
            "Epoch [32/50] Train Loss: 0.0836 Validation Loss: 0.2296\n",
            "Epoch [33/50] Train Loss: 0.0729 Validation Loss: 0.2043\n",
            "Epoch [34/50] Train Loss: 0.0803 Validation Loss: 0.2087\n",
            "Epoch [35/50] Train Loss: 0.0742 Validation Loss: 0.1889\n",
            "Epoch [36/50] Train Loss: 0.0730 Validation Loss: 0.2003\n",
            "Epoch [37/50] Train Loss: 0.0651 Validation Loss: 0.2378\n",
            "Epoch [38/50] Train Loss: 0.0626 Validation Loss: 0.2218\n",
            "Epoch [39/50] Train Loss: 0.0667 Validation Loss: 0.2960\n",
            "Epoch [40/50] Train Loss: 0.0610 Validation Loss: 0.1933\n",
            "Epoch [41/50] Train Loss: 0.0502 Validation Loss: 0.2470\n",
            "Epoch [42/50] Train Loss: 0.0559 Validation Loss: 0.2057\n",
            "Epoch [43/50] Train Loss: 0.0604 Validation Loss: 0.1863\n",
            "Epoch [44/50] Train Loss: 0.0497 Validation Loss: 0.1889\n",
            "Epoch [45/50] Train Loss: 0.0543 Validation Loss: 0.2311\n",
            "Epoch [46/50] Train Loss: 0.0439 Validation Loss: 0.2288\n",
            "Epoch [47/50] Train Loss: 0.0504 Validation Loss: 0.3032\n",
            "Epoch [48/50] Train Loss: 0.0497 Validation Loss: 0.1942\n",
            "Epoch [49/50] Train Loss: 0.0448 Validation Loss: 0.2397\n",
            "Epoch [50/50] Train Loss: 0.0384 Validation Loss: 0.2626\n"
          ]
        }
      ]
    },
    {
      "cell_type": "code",
      "source": [
        "from sklearn.metrics import classification_report\n",
        "\n",
        "model.eval()\n",
        "correct = 0\n",
        "total = 0\n",
        "# Calculate and print classification report\n",
        "true_labels = []\n",
        "predicted_labels = []\n",
        "with torch.no_grad():\n",
        "    for images, labels in test_loader:\n",
        "        images, labels = images.to(device), labels.to(device)\n",
        "        outputs = model(images)\n",
        "        _, predicted = torch.max(outputs, 1)\n",
        "        total += labels.size(0)\n",
        "        correct += (predicted == labels).sum().item()\n",
        "        predicted_labels.extend(predicted.tolist())\n",
        "        true_labels.extend(labels.tolist())\n",
        "\n",
        "accuracy = 100 * correct / total\n",
        "print(f\"Accuracy on the test set: {accuracy:}%\")\n",
        "\n",
        "\n",
        "report = classification_report(true_labels, predicted_labels, target_names=class_names)\n",
        "print(report)"
      ],
      "metadata": {
        "colab": {
          "base_uri": "https://localhost:8080/"
        },
        "id": "4S8dCqpO6Jmh",
        "outputId": "f44bbebe-6e1f-433f-e51d-5a085f1006da"
      },
      "execution_count": null,
      "outputs": [
        {
          "output_type": "stream",
          "name": "stdout",
          "text": [
            "Accuracy on the test set: 96.66666666666667%\n",
            "                precision    recall  f1-score   support\n",
            "\n",
            "        Blight       0.93      0.96      0.94       123\n",
            "   Common_Rust       0.98      0.98      0.98       129\n",
            "Gray_Leaf_Spot       0.94      0.87      0.91        55\n",
            "       Healthy       1.00      1.00      1.00       113\n",
            "\n",
            "      accuracy                           0.97       420\n",
            "     macro avg       0.96      0.95      0.96       420\n",
            "  weighted avg       0.97      0.97      0.97       420\n",
            "\n"
          ]
        }
      ]
    }
  ]
}