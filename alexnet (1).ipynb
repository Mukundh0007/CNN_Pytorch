{
  "cells": [
    {
      "cell_type": "code",
      "source": [
        "from google.colab import drive\n",
        "drive.mount('/content/drive')"
      ],
      "metadata": {
        "colab": {
          "base_uri": "https://localhost:8080/"
        },
        "id": "YYBAP6FTP6kG",
        "outputId": "7dcc22d3-464d-43a0-e908-6b9c83a71d32"
      },
      "id": "YYBAP6FTP6kG",
      "execution_count": null,
      "outputs": [
        {
          "output_type": "stream",
          "name": "stdout",
          "text": [
            "Mounted at /content/drive\n"
          ]
        }
      ]
    },
    {
      "cell_type": "code",
      "source": [
        "%cd '/content/drive/MyDrive/'"
      ],
      "metadata": {
        "id": "9NXlbtAYP8l2"
      },
      "id": "9NXlbtAYP8l2",
      "execution_count": null,
      "outputs": []
    },
    {
      "cell_type": "code",
      "execution_count": null,
      "id": "8dae7290",
      "metadata": {
        "id": "8dae7290"
      },
      "outputs": [],
      "source": [
        "import tensorflow as tf\n",
        "from tensorflow.keras import layers,models\n",
        "import matplotlib.pyplot as plt\n",
        "IMAGE_SIZE=224\n",
        "BATCH_SIZE=32\n",
        "CHANNELS=3\n",
        "EPOCHS=10"
      ]
    },
    {
      "cell_type": "code",
      "execution_count": null,
      "id": "3c6f1e4c",
      "metadata": {
        "colab": {
          "base_uri": "https://localhost:8080/"
        },
        "id": "3c6f1e4c",
        "outputId": "80f47e10-4d65-4470-d858-7771d471b5d1"
      },
      "outputs": [
        {
          "output_type": "stream",
          "name": "stdout",
          "text": [
            "Found 4188 files belonging to 4 classes.\n"
          ]
        }
      ],
      "source": [
        "dataset_dir = '/content/drive/MyDrive/data'\n",
        "dataset=tf.keras.preprocessing.image_dataset_from_directory(\n",
        "    dataset_dir,\n",
        "    shuffle=True,\n",
        "    image_size=(IMAGE_SIZE,IMAGE_SIZE),\n",
        "    batch_size=BATCH_SIZE\n",
        ")"
      ]
    },
    {
      "cell_type": "code",
      "execution_count": null,
      "id": "eac13158",
      "metadata": {
        "colab": {
          "base_uri": "https://localhost:8080/"
        },
        "id": "eac13158",
        "outputId": "25a6d954-4414-412e-e095-ebbf7cc19b6b"
      },
      "outputs": [
        {
          "output_type": "execute_result",
          "data": {
            "text/plain": [
              "['Blight', 'Common_Rust', 'Gray_Leaf_Spot', 'Healthy']"
            ]
          },
          "metadata": {},
          "execution_count": 5
        }
      ],
      "source": [
        "class_names=dataset.class_names\n",
        "class_names"
      ]
    },
    {
      "cell_type": "code",
      "execution_count": null,
      "id": "92ad1b18",
      "metadata": {
        "colab": {
          "base_uri": "https://localhost:8080/"
        },
        "id": "92ad1b18",
        "outputId": "f48f9687-ad03-4f8f-c17f-e6598abc3969"
      },
      "outputs": [
        {
          "output_type": "execute_result",
          "data": {
            "text/plain": [
              "131"
            ]
          },
          "metadata": {},
          "execution_count": 6
        }
      ],
      "source": [
        "len(dataset)"
      ]
    },
    {
      "cell_type": "code",
      "execution_count": null,
      "id": "cc52c43f",
      "metadata": {
        "colab": {
          "base_uri": "https://localhost:8080/"
        },
        "id": "cc52c43f",
        "outputId": "033196c1-8e74-4975-bed4-f75de68bf594"
      },
      "outputs": [
        {
          "output_type": "execute_result",
          "data": {
            "text/plain": [
              "104.80000000000001"
            ]
          },
          "metadata": {},
          "execution_count": 7
        }
      ],
      "source": [
        "train_size=0.8\n",
        "len(dataset)*train_size"
      ]
    },
    {
      "cell_type": "code",
      "execution_count": null,
      "id": "d968bc7c",
      "metadata": {
        "id": "d968bc7c"
      },
      "outputs": [],
      "source": [
        "train_ds=dataset.take(105)"
      ]
    },
    {
      "cell_type": "code",
      "execution_count": null,
      "id": "84e0ea1e",
      "metadata": {
        "id": "84e0ea1e"
      },
      "outputs": [],
      "source": [
        "test_ds=dataset.skip(105)"
      ]
    },
    {
      "cell_type": "code",
      "execution_count": null,
      "id": "15d69ea7",
      "metadata": {
        "colab": {
          "base_uri": "https://localhost:8080/"
        },
        "id": "15d69ea7",
        "outputId": "dc8ed0a0-8e27-49af-9c1e-14b709f3c8b3"
      },
      "outputs": [
        {
          "output_type": "execute_result",
          "data": {
            "text/plain": [
              "26"
            ]
          },
          "metadata": {},
          "execution_count": 10
        }
      ],
      "source": [
        "len(test_ds)"
      ]
    },
    {
      "cell_type": "code",
      "execution_count": null,
      "id": "736b78e8",
      "metadata": {
        "colab": {
          "base_uri": "https://localhost:8080/"
        },
        "id": "736b78e8",
        "outputId": "6847aa5b-9d9b-451a-d8a3-511d904a9b0a"
      },
      "outputs": [
        {
          "output_type": "execute_result",
          "data": {
            "text/plain": [
              "13.100000000000001"
            ]
          },
          "metadata": {},
          "execution_count": 10
        }
      ],
      "source": [
        "val_size=0.1\n",
        "len(dataset)*val_size"
      ]
    },
    {
      "cell_type": "code",
      "execution_count": null,
      "id": "f5222b7b",
      "metadata": {
        "id": "f5222b7b"
      },
      "outputs": [],
      "source": [
        "test_ds=test_ds.skip(13)"
      ]
    },
    {
      "cell_type": "code",
      "execution_count": null,
      "id": "9beca13e",
      "metadata": {
        "id": "9beca13e"
      },
      "outputs": [],
      "source": [
        "def get_ds_partitions(ds,train_split=0.8,val_split=0.1,test_split=0.1,shuffle=True,shuffle_size=10000):\n",
        "    ds_size=len(ds)\n",
        "    if shuffle:\n",
        "        ds=ds.shuffle(shuffle_size,seed=12)\n",
        "    train_size=int(train_split*ds_size)\n",
        "    val_size=int(val_split*ds_size)\n",
        "    train_ds=ds.take(train_size)\n",
        "    val_ds=ds.skip(train_size).take(val_size)\n",
        "    test_ds=ds.skip(train_size).skip(val_size)\n",
        "    return train_ds,val_ds,test_ds"
      ]
    },
    {
      "cell_type": "code",
      "execution_count": null,
      "id": "474c8d49",
      "metadata": {
        "id": "474c8d49"
      },
      "outputs": [],
      "source": [
        "train_ds,val_ds,test_ds=get_ds_partitions(dataset)"
      ]
    },
    {
      "cell_type": "code",
      "execution_count": null,
      "id": "86b042e0",
      "metadata": {
        "colab": {
          "base_uri": "https://localhost:8080/"
        },
        "id": "86b042e0",
        "outputId": "b8aed199-1c04-4457-94e7-929a4ba5155f"
      },
      "outputs": [
        {
          "output_type": "execute_result",
          "data": {
            "text/plain": [
              "104"
            ]
          },
          "metadata": {},
          "execution_count": 14
        }
      ],
      "source": [
        "len(train_ds)"
      ]
    },
    {
      "cell_type": "code",
      "execution_count": null,
      "id": "812915a0",
      "metadata": {
        "colab": {
          "base_uri": "https://localhost:8080/"
        },
        "id": "812915a0",
        "outputId": "0318a050-9196-4779-c092-f13af01d71a0"
      },
      "outputs": [
        {
          "output_type": "execute_result",
          "data": {
            "text/plain": [
              "13"
            ]
          },
          "metadata": {},
          "execution_count": 84
        }
      ],
      "source": [
        "len(val_ds)"
      ]
    },
    {
      "cell_type": "code",
      "execution_count": null,
      "id": "fb9c6c45",
      "metadata": {
        "colab": {
          "base_uri": "https://localhost:8080/"
        },
        "id": "fb9c6c45",
        "outputId": "6377223b-3abe-400a-e9d8-7612f29f9a14"
      },
      "outputs": [
        {
          "output_type": "execute_result",
          "data": {
            "text/plain": [
              "14"
            ]
          },
          "metadata": {},
          "execution_count": 85
        }
      ],
      "source": [
        "len(test_ds)"
      ]
    },
    {
      "cell_type": "code",
      "execution_count": null,
      "id": "fb24723a",
      "metadata": {
        "id": "fb24723a"
      },
      "outputs": [],
      "source": [
        "train_ds=train_ds.cache().shuffle(1000).prefetch(buffer_size=tf.data.AUTOTUNE)\n",
        "val_ds=val_ds.cache().shuffle(1000).prefetch(buffer_size=tf.data.AUTOTUNE)\n",
        "test_ds=test_ds.cache().shuffle(1000).prefetch(buffer_size=tf.data.AUTOTUNE)"
      ]
    },
    {
      "cell_type": "code",
      "execution_count": null,
      "id": "137f8600",
      "metadata": {
        "id": "137f8600"
      },
      "outputs": [],
      "source": [
        "resiz=tf.keras.Sequential([\n",
        "    layers.experimental.preprocessing.Resizing(256,256),\n",
        "    layers.experimental.preprocessing.Rescaling(1.0/255)\n",
        "])\n",
        "dataug=tf.keras.Sequential([\n",
        "    layers.experimental.preprocessing.RandomFlip(\"horizontal_and_vertical\"),\n",
        "    layers.experimental.preprocessing.RandomRotation(0.2)\n",
        "])"
      ]
    },
    {
      "cell_type": "code",
      "execution_count": null,
      "id": "f470ab67",
      "metadata": {
        "id": "f470ab67"
      },
      "outputs": [],
      "source": [
        "input_shape=(BATCH_SIZE,IMAGE_SIZE,IMAGE_SIZE,CHANNELS)\n",
        "n_classes=4\n",
        "model=models.Sequential([\n",
        "    resiz,\n",
        "    dataug,\n",
        "    layers.Conv2D(96,11,strides=(4,4),padding='valid',input_shape=input_shape,activation='relu'),\n",
        "    layers.MaxPooling2D(pool_size=(2,2),strides=(2,2),padding='valid'),\n",
        "    layers.BatchNormalization(),\n",
        "    layers.Conv2D(256,11,strides=(1,1),padding='valid',activation='relu'),\n",
        "    layers.MaxPooling2D(pool_size=(2,2),strides=(2,2),padding='valid'),\n",
        "    layers.BatchNormalization(),\n",
        "    layers.Conv2D(384,3,strides=(1,1),padding='valid',activation='relu'),\n",
        "    layers.BatchNormalization(),\n",
        "    layers.Conv2D(384,3,strides=(1,1),padding='valid',activation='relu'),\n",
        "    layers.BatchNormalization(),\n",
        "    layers.Conv2D(256,3,strides=(1,1),padding='valid',activation='relu'),\n",
        "    layers.MaxPooling2D(pool_size=(2,2),strides=(2,2),padding='valid'),\n",
        "    layers.BatchNormalization(),\n",
        "    layers.Flatten(),\n",
        "    layers.Dense(units=4096,activation='relu'),\n",
        "    layers.Dropout(0.4),\n",
        "    layers.BatchNormalization(),\n",
        "    layers.Dense(units=4096,activation='relu'),\n",
        "    layers.Dropout(0.4),\n",
        "    layers.BatchNormalization(),\n",
        "    layers.Dense(units=1000,activation='relu'),\n",
        "    layers.Dropout(0.2),\n",
        "    layers.BatchNormalization(),\n",
        "    layers.Dense(units=38,activation='softmax')\n",
        "])\n",
        "model.build(input_shape=input_shape)"
      ]
    },
    {
      "cell_type": "code",
      "execution_count": null,
      "id": "6829c141",
      "metadata": {
        "colab": {
          "base_uri": "https://localhost:8080/"
        },
        "id": "6829c141",
        "outputId": "5b190746-2620-4896-a28c-0cf997cbb7c3"
      },
      "outputs": [
        {
          "output_type": "stream",
          "name": "stdout",
          "text": [
            "Model: \"sequential_3\"\n",
            "_________________________________________________________________\n",
            " Layer (type)                Output Shape              Param #   \n",
            "=================================================================\n",
            " sequential (Sequential)     (None, 256, 256, 3)       0         \n",
            "                                                                 \n",
            " sequential_1 (Sequential)   (None, 256, 256, 3)       0         \n",
            "                                                                 \n",
            " conv2d_5 (Conv2D)           (32, 62, 62, 96)          34944     \n",
            "                                                                 \n",
            " max_pooling2d_3 (MaxPoolin  (32, 31, 31, 96)          0         \n",
            " g2D)                                                            \n",
            "                                                                 \n",
            " batch_normalization_8 (Bat  (32, 31, 31, 96)          384       \n",
            " chNormalization)                                                \n",
            "                                                                 \n",
            " conv2d_6 (Conv2D)           (32, 21, 21, 256)         2973952   \n",
            "                                                                 \n",
            " max_pooling2d_4 (MaxPoolin  (32, 10, 10, 256)         0         \n",
            " g2D)                                                            \n",
            "                                                                 \n",
            " batch_normalization_9 (Bat  (32, 10, 10, 256)         1024      \n",
            " chNormalization)                                                \n",
            "                                                                 \n",
            " conv2d_7 (Conv2D)           (32, 8, 8, 384)           885120    \n",
            "                                                                 \n",
            " batch_normalization_10 (Ba  (32, 8, 8, 384)           1536      \n",
            " tchNormalization)                                               \n",
            "                                                                 \n",
            " conv2d_8 (Conv2D)           (32, 6, 6, 384)           1327488   \n",
            "                                                                 \n",
            " batch_normalization_11 (Ba  (32, 6, 6, 384)           1536      \n",
            " tchNormalization)                                               \n",
            "                                                                 \n",
            " conv2d_9 (Conv2D)           (32, 4, 4, 256)           884992    \n",
            "                                                                 \n",
            " max_pooling2d_5 (MaxPoolin  (32, 2, 2, 256)           0         \n",
            " g2D)                                                            \n",
            "                                                                 \n",
            " batch_normalization_12 (Ba  (32, 2, 2, 256)           1024      \n",
            " tchNormalization)                                               \n",
            "                                                                 \n",
            " flatten_1 (Flatten)         (32, 1024)                0         \n",
            "                                                                 \n",
            " dense_4 (Dense)             (32, 4096)                4198400   \n",
            "                                                                 \n",
            " dropout_3 (Dropout)         (32, 4096)                0         \n",
            "                                                                 \n",
            " batch_normalization_13 (Ba  (32, 4096)                16384     \n",
            " tchNormalization)                                               \n",
            "                                                                 \n",
            " dense_5 (Dense)             (32, 4096)                16781312  \n",
            "                                                                 \n",
            " dropout_4 (Dropout)         (32, 4096)                0         \n",
            "                                                                 \n",
            " batch_normalization_14 (Ba  (32, 4096)                16384     \n",
            " tchNormalization)                                               \n",
            "                                                                 \n",
            " dense_6 (Dense)             (32, 1000)                4097000   \n",
            "                                                                 \n",
            " dropout_5 (Dropout)         (32, 1000)                0         \n",
            "                                                                 \n",
            " batch_normalization_15 (Ba  (32, 1000)                4000      \n",
            " tchNormalization)                                               \n",
            "                                                                 \n",
            " dense_7 (Dense)             (32, 38)                  38038     \n",
            "                                                                 \n",
            "=================================================================\n",
            "Total params: 31263518 (119.26 MB)\n",
            "Trainable params: 31242382 (119.18 MB)\n",
            "Non-trainable params: 21136 (82.56 KB)\n",
            "_________________________________________________________________\n"
          ]
        }
      ],
      "source": [
        "model.summary()"
      ]
    },
    {
      "cell_type": "code",
      "execution_count": null,
      "id": "c78be1df",
      "metadata": {
        "id": "c78be1df"
      },
      "outputs": [],
      "source": [
        "model.compile(\n",
        "    optimizer='adamax',\n",
        "    loss=tf.keras.losses.SparseCategoricalCrossentropy(from_logits=False),\n",
        "    metrics=['accuracy']\n",
        ")"
      ]
    },
    {
      "cell_type": "code",
      "source": [
        "EPOCHS=50"
      ],
      "metadata": {
        "id": "3pgvLAV6UFdd"
      },
      "id": "3pgvLAV6UFdd",
      "execution_count": null,
      "outputs": []
    },
    {
      "cell_type": "code",
      "execution_count": null,
      "id": "5087d7ce",
      "metadata": {
        "colab": {
          "base_uri": "https://localhost:8080/"
        },
        "id": "5087d7ce",
        "outputId": "0055c2e6-7c62-4986-fa4a-be93c519ea13"
      },
      "outputs": [
        {
          "output_type": "stream",
          "name": "stdout",
          "text": [
            "Epoch 1/50\n",
            "104/104 [==============================] - 12s 49ms/step - loss: 1.4779 - accuracy: 0.6610 - val_loss: 7.0964 - val_accuracy: 0.3966\n",
            "Epoch 2/50\n",
            "104/104 [==============================] - 5s 46ms/step - loss: 0.7735 - accuracy: 0.7548 - val_loss: 1.2218 - val_accuracy: 0.5625\n",
            "Epoch 3/50\n",
            "104/104 [==============================] - 5s 47ms/step - loss: 0.6136 - accuracy: 0.7702 - val_loss: 1.0807 - val_accuracy: 0.6250\n",
            "Epoch 4/50\n",
            "104/104 [==============================] - 5s 46ms/step - loss: 0.5831 - accuracy: 0.7858 - val_loss: 0.8388 - val_accuracy: 0.6947\n",
            "Epoch 5/50\n",
            "104/104 [==============================] - 5s 47ms/step - loss: 0.5376 - accuracy: 0.7951 - val_loss: 1.4196 - val_accuracy: 0.6731\n",
            "Epoch 6/50\n",
            "104/104 [==============================] - 5s 47ms/step - loss: 0.4860 - accuracy: 0.8150 - val_loss: 0.7057 - val_accuracy: 0.6803\n",
            "Epoch 7/50\n",
            "104/104 [==============================] - 5s 46ms/step - loss: 0.4462 - accuracy: 0.8180 - val_loss: 0.6118 - val_accuracy: 0.8101\n",
            "Epoch 8/50\n",
            "104/104 [==============================] - 5s 48ms/step - loss: 0.4432 - accuracy: 0.8243 - val_loss: 1.2805 - val_accuracy: 0.4543\n",
            "Epoch 9/50\n",
            "104/104 [==============================] - 5s 46ms/step - loss: 0.4175 - accuracy: 0.8324 - val_loss: 1.1539 - val_accuracy: 0.3990\n",
            "Epoch 10/50\n",
            "104/104 [==============================] - 5s 46ms/step - loss: 0.3874 - accuracy: 0.8433 - val_loss: 1.6379 - val_accuracy: 0.6418\n",
            "Epoch 11/50\n",
            "104/104 [==============================] - 5s 47ms/step - loss: 0.3764 - accuracy: 0.8487 - val_loss: 0.6275 - val_accuracy: 0.8173\n",
            "Epoch 12/50\n",
            "104/104 [==============================] - 5s 45ms/step - loss: 0.3846 - accuracy: 0.8448 - val_loss: 0.6473 - val_accuracy: 0.6755\n",
            "Epoch 13/50\n",
            "104/104 [==============================] - 5s 47ms/step - loss: 0.3555 - accuracy: 0.8643 - val_loss: 0.5787 - val_accuracy: 0.7260\n",
            "Epoch 14/50\n",
            "104/104 [==============================] - 5s 46ms/step - loss: 0.3526 - accuracy: 0.8550 - val_loss: 0.9515 - val_accuracy: 0.7716\n",
            "Epoch 15/50\n",
            "104/104 [==============================] - 5s 45ms/step - loss: 0.3104 - accuracy: 0.8803 - val_loss: 0.3993 - val_accuracy: 0.8462\n",
            "Epoch 16/50\n",
            "104/104 [==============================] - 5s 47ms/step - loss: 0.3331 - accuracy: 0.8730 - val_loss: 0.2932 - val_accuracy: 0.8870\n",
            "Epoch 17/50\n",
            "104/104 [==============================] - 5s 46ms/step - loss: 0.2931 - accuracy: 0.8848 - val_loss: 0.3966 - val_accuracy: 0.8702\n",
            "Epoch 18/50\n",
            "104/104 [==============================] - 5s 45ms/step - loss: 0.2924 - accuracy: 0.8836 - val_loss: 0.5628 - val_accuracy: 0.7764\n",
            "Epoch 19/50\n",
            "104/104 [==============================] - 5s 47ms/step - loss: 0.2779 - accuracy: 0.8851 - val_loss: 0.5067 - val_accuracy: 0.8389\n",
            "Epoch 20/50\n",
            "104/104 [==============================] - 5s 46ms/step - loss: 0.2951 - accuracy: 0.8863 - val_loss: 0.6009 - val_accuracy: 0.8365\n",
            "Epoch 21/50\n",
            "104/104 [==============================] - 5s 46ms/step - loss: 0.2927 - accuracy: 0.8920 - val_loss: 0.9065 - val_accuracy: 0.7043\n",
            "Epoch 22/50\n",
            "104/104 [==============================] - 5s 47ms/step - loss: 0.2736 - accuracy: 0.8962 - val_loss: 0.4763 - val_accuracy: 0.7957\n",
            "Epoch 23/50\n",
            "104/104 [==============================] - 5s 46ms/step - loss: 0.2647 - accuracy: 0.8950 - val_loss: 1.6440 - val_accuracy: 0.5096\n",
            "Epoch 24/50\n",
            "104/104 [==============================] - 5s 47ms/step - loss: 0.2724 - accuracy: 0.8959 - val_loss: 0.4887 - val_accuracy: 0.8798\n",
            "Epoch 25/50\n",
            "104/104 [==============================] - 5s 47ms/step - loss: 0.2440 - accuracy: 0.8986 - val_loss: 0.3781 - val_accuracy: 0.8822\n",
            "Epoch 26/50\n",
            "104/104 [==============================] - 5s 46ms/step - loss: 0.2586 - accuracy: 0.8998 - val_loss: 2.0948 - val_accuracy: 0.5192\n",
            "Epoch 27/50\n",
            "104/104 [==============================] - 5s 47ms/step - loss: 0.2387 - accuracy: 0.9088 - val_loss: 0.5260 - val_accuracy: 0.8125\n",
            "Epoch 28/50\n",
            "104/104 [==============================] - 5s 47ms/step - loss: 0.2338 - accuracy: 0.9046 - val_loss: 0.5333 - val_accuracy: 0.8702\n",
            "Epoch 29/50\n",
            "104/104 [==============================] - 5s 46ms/step - loss: 0.2297 - accuracy: 0.9103 - val_loss: 0.5930 - val_accuracy: 0.8125\n",
            "Epoch 30/50\n",
            "104/104 [==============================] - 5s 48ms/step - loss: 0.2330 - accuracy: 0.9079 - val_loss: 1.2520 - val_accuracy: 0.8125\n",
            "Epoch 31/50\n",
            "104/104 [==============================] - 5s 46ms/step - loss: 0.2276 - accuracy: 0.9103 - val_loss: 0.5693 - val_accuracy: 0.8510\n",
            "Epoch 32/50\n",
            "104/104 [==============================] - 5s 46ms/step - loss: 0.2278 - accuracy: 0.9176 - val_loss: 0.6105 - val_accuracy: 0.7620\n",
            "Epoch 33/50\n",
            "104/104 [==============================] - 5s 47ms/step - loss: 0.2543 - accuracy: 0.8977 - val_loss: 0.3263 - val_accuracy: 0.8486\n",
            "Epoch 34/50\n",
            "104/104 [==============================] - 5s 46ms/step - loss: 0.2198 - accuracy: 0.9143 - val_loss: 0.5421 - val_accuracy: 0.7716\n",
            "Epoch 35/50\n",
            "104/104 [==============================] - 5s 46ms/step - loss: 0.2121 - accuracy: 0.9206 - val_loss: 0.4866 - val_accuracy: 0.8486\n",
            "Epoch 36/50\n",
            "104/104 [==============================] - 5s 47ms/step - loss: 0.2158 - accuracy: 0.9146 - val_loss: 4.4648 - val_accuracy: 0.4639\n",
            "Epoch 37/50\n",
            "104/104 [==============================] - 5s 46ms/step - loss: 0.2069 - accuracy: 0.9167 - val_loss: 0.3040 - val_accuracy: 0.9135\n",
            "Epoch 38/50\n",
            "104/104 [==============================] - 5s 47ms/step - loss: 0.1980 - accuracy: 0.9179 - val_loss: 0.8570 - val_accuracy: 0.6899\n",
            "Epoch 39/50\n",
            "104/104 [==============================] - 5s 47ms/step - loss: 0.2165 - accuracy: 0.9155 - val_loss: 1.3026 - val_accuracy: 0.7837\n",
            "Epoch 40/50\n",
            "104/104 [==============================] - 5s 46ms/step - loss: 0.1903 - accuracy: 0.9299 - val_loss: 0.7690 - val_accuracy: 0.8462\n",
            "Epoch 41/50\n",
            "104/104 [==============================] - 5s 47ms/step - loss: 0.1839 - accuracy: 0.9269 - val_loss: 1.2454 - val_accuracy: 0.8101\n",
            "Epoch 42/50\n",
            "104/104 [==============================] - 5s 46ms/step - loss: 0.1938 - accuracy: 0.9227 - val_loss: 0.5357 - val_accuracy: 0.8173\n",
            "Epoch 43/50\n",
            "104/104 [==============================] - 5s 46ms/step - loss: 0.1721 - accuracy: 0.9323 - val_loss: 2.2330 - val_accuracy: 0.4784\n",
            "Epoch 44/50\n",
            "104/104 [==============================] - 5s 47ms/step - loss: 0.1753 - accuracy: 0.9293 - val_loss: 0.3735 - val_accuracy: 0.8918\n",
            "Epoch 45/50\n",
            "104/104 [==============================] - 5s 46ms/step - loss: 0.1662 - accuracy: 0.9302 - val_loss: 0.5100 - val_accuracy: 0.8413\n",
            "Epoch 46/50\n",
            "104/104 [==============================] - 5s 46ms/step - loss: 0.1681 - accuracy: 0.9293 - val_loss: 0.6377 - val_accuracy: 0.7909\n",
            "Epoch 47/50\n",
            "104/104 [==============================] - 5s 47ms/step - loss: 0.1522 - accuracy: 0.9386 - val_loss: 1.5062 - val_accuracy: 0.6659\n",
            "Epoch 48/50\n",
            "104/104 [==============================] - 5s 46ms/step - loss: 0.1554 - accuracy: 0.9374 - val_loss: 0.7413 - val_accuracy: 0.8293\n",
            "Epoch 49/50\n",
            "104/104 [==============================] - 5s 48ms/step - loss: 0.1734 - accuracy: 0.9329 - val_loss: 0.6636 - val_accuracy: 0.8413\n",
            "Epoch 50/50\n",
            "104/104 [==============================] - 5s 47ms/step - loss: 0.1588 - accuracy: 0.9347 - val_loss: 0.4522 - val_accuracy: 0.9038\n"
          ]
        }
      ],
      "source": [
        "history=model.fit(\n",
        "    train_ds,\n",
        "    epochs=EPOCHS,\n",
        "    batch_size=BATCH_SIZE,\n",
        "    verbose=1,\n",
        "    validation_data=val_ds\n",
        ")"
      ]
    },
    {
      "cell_type": "code",
      "execution_count": null,
      "id": "59d2b50b",
      "metadata": {
        "colab": {
          "base_uri": "https://localhost:8080/"
        },
        "id": "59d2b50b",
        "outputId": "1e9ee6f0-44e8-4397-e6f1-bee8123ee56b"
      },
      "outputs": [
        {
          "output_type": "stream",
          "name": "stdout",
          "text": [
            "14/14 [==============================] - 0s 17ms/step - loss: 0.2820 - accuracy: 0.9196\n"
          ]
        }
      ],
      "source": [
        "scores=model.evaluate(test_ds)"
      ]
    },
    {
      "cell_type": "code",
      "execution_count": null,
      "id": "681c62ef",
      "metadata": {
        "colab": {
          "base_uri": "https://localhost:8080/"
        },
        "id": "681c62ef",
        "outputId": "6190bf77-d122-4462-8668-ebd94ee2a28e"
      },
      "outputs": [
        {
          "output_type": "execute_result",
          "data": {
            "text/plain": [
              "[0.282027930021286, 0.9196428656578064]"
            ]
          },
          "metadata": {},
          "execution_count": 31
        }
      ],
      "source": [
        "scores"
      ]
    },
    {
      "cell_type": "code",
      "source": [
        "from sklearn.metrics import classification_report\n",
        "true_labels = []\n",
        "predicted_labels = []\n",
        "\n",
        "for batch in test_ds:\n",
        "    images, labels = batch\n",
        "    predictions = model.predict(images)\n",
        "    predicted_labels.extend(tf.argmax(predictions, axis=1).numpy())\n",
        "    true_labels.extend(labels.numpy())\n",
        "report = classification_report(true_labels, predicted_labels, target_names=class_names)\n",
        "print(report)"
      ],
      "metadata": {
        "colab": {
          "base_uri": "https://localhost:8080/"
        },
        "id": "6ys_KBO6QJua",
        "outputId": "9b6571cb-61d0-4c4a-eb2f-db50f73a58fd"
      },
      "id": "6ys_KBO6QJua",
      "execution_count": null,
      "outputs": [
        {
          "output_type": "stream",
          "name": "stdout",
          "text": [
            "1/1 [==============================] - 0s 217ms/step\n",
            "1/1 [==============================] - 0s 33ms/step\n",
            "1/1 [==============================] - 0s 28ms/step\n",
            "1/1 [==============================] - 0s 26ms/step\n",
            "1/1 [==============================] - 0s 27ms/step\n",
            "1/1 [==============================] - 0s 30ms/step\n",
            "1/1 [==============================] - 0s 30ms/step\n",
            "1/1 [==============================] - 0s 28ms/step\n",
            "1/1 [==============================] - 0s 29ms/step\n",
            "1/1 [==============================] - 0s 28ms/step\n",
            "1/1 [==============================] - 0s 35ms/step\n",
            "1/1 [==============================] - 0s 32ms/step\n",
            "1/1 [==============================] - 0s 27ms/step\n",
            "1/1 [==============================] - 0s 31ms/step\n",
            "                precision    recall  f1-score   support\n",
            "\n",
            "        Blight       0.83      0.93      0.88       117\n",
            "   Common_Rust       0.95      0.97      0.96       152\n",
            "Gray_Leaf_Spot       0.83      0.51      0.63        49\n",
            "       Healthy       0.98      1.00      0.99       130\n",
            "\n",
            "      accuracy                           0.92       448\n",
            "     macro avg       0.90      0.85      0.87       448\n",
            "  weighted avg       0.92      0.92      0.91       448\n",
            "\n"
          ]
        }
      ]
    },
    {
      "cell_type": "code",
      "source": [],
      "metadata": {
        "id": "WwPTq9FUUw0b"
      },
      "id": "WwPTq9FUUw0b",
      "execution_count": null,
      "outputs": []
    },
    {
      "cell_type": "markdown",
      "source": [
        "#for 10"
      ],
      "metadata": {
        "id": "ArxfwETPUxtu"
      },
      "id": "ArxfwETPUxtu"
    },
    {
      "cell_type": "code",
      "source": [
        "from sklearn.metrics import confusion_matrix\n",
        "\n",
        "confusion_mat = confusion_matrix(true_labels, predicted_labels)\n",
        "\n",
        "print(\"Confusion Matrix:\")\n",
        "print(confusion_mat)\n"
      ],
      "metadata": {
        "colab": {
          "base_uri": "https://localhost:8080/"
        },
        "id": "RgU-_e2AQbJz",
        "outputId": "6827ced0-a7e0-46b2-a331-f94632faedc3"
      },
      "id": "RgU-_e2AQbJz",
      "execution_count": null,
      "outputs": [
        {
          "output_type": "stream",
          "name": "stdout",
          "text": [
            "Confusion Matrix:\n",
            "[[ 75   0  65   0]\n",
            " [  5 109  10   1]\n",
            " [ 41   0  24   0]\n",
            " [ 53   0  22  43]]\n"
          ]
        }
      ]
    }
  ],
  "metadata": {
    "kernelspec": {
      "display_name": "Python 3",
      "name": "python3"
    },
    "language_info": {
      "codemirror_mode": {
        "name": "ipython",
        "version": 3
      },
      "file_extension": ".py",
      "mimetype": "text/x-python",
      "name": "python",
      "nbconvert_exporter": "python",
      "pygments_lexer": "ipython3",
      "version": "3.10.9"
    },
    "colab": {
      "provenance": [],
      "gpuType": "T4"
    },
    "accelerator": "GPU"
  },
  "nbformat": 4,
  "nbformat_minor": 5
}