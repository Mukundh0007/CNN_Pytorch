{
  "nbformat": 4,
  "nbformat_minor": 0,
  "metadata": {
    "colab": {
      "provenance": [],
      "gpuType": "T4"
    },
    "kernelspec": {
      "name": "python3",
      "display_name": "Python 3"
    },
    "language_info": {
      "name": "python"
    },
    "accelerator": "GPU"
  },
  "cells": [
    {
      "cell_type": "code",
      "execution_count": null,
      "metadata": {
        "colab": {
          "base_uri": "https://localhost:8080/"
        },
        "id": "jBBxOiuPmY3x",
        "outputId": "0c7321f1-e21b-4b7f-a7da-a2def4958726"
      },
      "outputs": [
        {
          "output_type": "stream",
          "name": "stdout",
          "text": [
            "Mounted at /content/drive\n",
            "/content/drive/MyDrive\n"
          ]
        }
      ],
      "source": [
        "from google.colab import drive\n",
        "drive.mount('/content/drive')\n",
        "%cd '/content/drive/MyDrive/'"
      ]
    },
    {
      "cell_type": "code",
      "source": [
        "import torch\n",
        "import torch.nn as nn\n",
        "import torch.optim as optim\n",
        "import torchvision\n",
        "from torchvision import datasets, transforms,models\n",
        "from torch.utils.data import DataLoader\n",
        "from sklearn.metrics import classification_report\n",
        "import matplotlib.pyplot as plt"
      ],
      "metadata": {
        "id": "FhOc7aewmvHh"
      },
      "execution_count": null,
      "outputs": []
    },
    {
      "cell_type": "code",
      "source": [
        "device = torch.device(\"cuda\" if torch.cuda.is_available() else \"cpu\")\n",
        "device"
      ],
      "metadata": {
        "id": "_tAtIwiYmxnt",
        "colab": {
          "base_uri": "https://localhost:8080/"
        },
        "outputId": "dfbde45b-cf02-4134-b825-23424d46e7b4"
      },
      "execution_count": null,
      "outputs": [
        {
          "output_type": "execute_result",
          "data": {
            "text/plain": [
              "device(type='cuda')"
            ]
          },
          "metadata": {},
          "execution_count": 15
        }
      ]
    },
    {
      "cell_type": "code",
      "source": [
        "# Set random seed for reproducibility\n",
        "torch.manual_seed(42)\n",
        "\n",
        "# Define constants\n",
        "IMAGE_SIZE = 224\n",
        "BATCH_SIZE = 32\n",
        "CHANNELS = 3\n",
        "EPOCHS =50\n",
        "n_classes = 4\n",
        "\n",
        "# Define data transformations\n",
        "transform = transforms.Compose([\n",
        "    transforms.Resize((IMAGE_SIZE, IMAGE_SIZE)),\n",
        "    transforms.RandomHorizontalFlip(),\n",
        "    transforms.RandomVerticalFlip(),\n",
        "    transforms.RandomRotation(20),\n",
        "    transforms.ToTensor(),\n",
        "    transforms.Normalize(mean=[0.485, 0.456, 0.406], std=[0.229, 0.224, 0.225])\n",
        "])"
      ],
      "metadata": {
        "id": "vrYHUrk4m0jd"
      },
      "execution_count": null,
      "outputs": []
    },
    {
      "cell_type": "code",
      "source": [
        "\n",
        "# Load the dataset\n",
        "dataset = datasets.ImageFolder(\"data\", transform=transform)\n",
        "class_names = dataset.classes\n",
        "class_names\n"
      ],
      "metadata": {
        "colab": {
          "base_uri": "https://localhost:8080/"
        },
        "id": "3_K2D63Om1xU",
        "outputId": "33190ccb-9589-481b-ec11-7013b5cc0f50"
      },
      "execution_count": null,
      "outputs": [
        {
          "output_type": "execute_result",
          "data": {
            "text/plain": [
              "['Blight', 'Common_Rust', 'Gray_Leaf_Spot', 'Healthy']"
            ]
          },
          "metadata": {},
          "execution_count": 17
        }
      ]
    },
    {
      "cell_type": "code",
      "source": [
        "# Split the dataset into train, validation, and test sets\n",
        "train_size = int(0.8 * len(dataset))\n",
        "val_size = int(0.1 * len(dataset))\n",
        "test_size = len(dataset) - train_size - val_size\n",
        "train_dataset, val_dataset, test_dataset = torch.utils.data.random_split(\n",
        "    dataset, [train_size, val_size, test_size])\n",
        "\n",
        "# Create data loaders\n",
        "train_loader = DataLoader(train_dataset, batch_size=BATCH_SIZE, shuffle=True)\n",
        "val_loader = DataLoader(val_dataset, batch_size=BATCH_SIZE)\n",
        "test_loader = DataLoader(test_dataset, batch_size=BATCH_SIZE)"
      ],
      "metadata": {
        "id": "khdcIBGzm6Nb"
      },
      "execution_count": null,
      "outputs": []
    },
    {
      "cell_type": "code",
      "source": [
        "# # Define the CNN model\n",
        "# class CNN(nn.Module):\n",
        "#     def __init__(self):\n",
        "#         super(CNN, self).__init__()\n",
        "#         self.resiz = nn.Sequential(\n",
        "#             nn.Conv2d(CHANNELS, 32, kernel_size=3, padding=1),  # Adjusted input channels\n",
        "#             nn.BatchNorm2d(32),\n",
        "#             nn.ReLU(inplace=True),\n",
        "#             nn.MaxPool2d(kernel_size=2, stride=2),\n",
        "#         )\n",
        "#         self.features = nn.Sequential(\n",
        "#             nn.Conv2d(32, 64, kernel_size=3, padding=1),\n",
        "#             nn.ReLU(inplace=True),\n",
        "#             nn.MaxPool2d(kernel_size=2, stride=2),\n",
        "#             nn.Conv2d(64, 64, kernel_size=3, padding=1),\n",
        "#             nn.ReLU(inplace=True),\n",
        "#             nn.MaxPool2d(kernel_size=2, stride=2),\n",
        "#         )\n",
        "#         self.classifier = nn.Sequential(\n",
        "#             nn.Linear(64 * 32 * 32, 64),  # Adjusted input size\n",
        "#             nn.ReLU(inplace=True),\n",
        "#             nn.Linear(64, n_classes),\n",
        "#         )\n",
        "\n",
        "#     def forward(self, x):\n",
        "#         x = self.resiz(x)\n",
        "#         x = self.features(x)\n",
        "#         x = x.view(x.size(0), -1)\n",
        "#         x = self.classifier(x)\n",
        "#         return x\n",
        "\n",
        "model = models.vgg16(pretrained=True)\n",
        "# Modify the classifier to fit your classification task\n",
        "model.classifier[6] = nn.Linear(model.classifier[6].in_features, n_classes)\n",
        "model = model.to(device)"
      ],
      "metadata": {
        "colab": {
          "base_uri": "https://localhost:8080/"
        },
        "id": "warYD39enEco",
        "outputId": "848d3440-8a2f-4585-e480-06ab000b7bb6"
      },
      "execution_count": null,
      "outputs": [
        {
          "output_type": "stream",
          "name": "stderr",
          "text": [
            "/usr/local/lib/python3.10/dist-packages/torchvision/models/_utils.py:208: UserWarning: The parameter 'pretrained' is deprecated since 0.13 and may be removed in the future, please use 'weights' instead.\n",
            "  warnings.warn(\n",
            "/usr/local/lib/python3.10/dist-packages/torchvision/models/_utils.py:223: UserWarning: Arguments other than a weight enum or `None` for 'weights' are deprecated since 0.13 and may be removed in the future. The current behavior is equivalent to passing `weights=VGG16_Weights.IMAGENET1K_V1`. You can also use `weights=VGG16_Weights.DEFAULT` to get the most up-to-date weights.\n",
            "  warnings.warn(msg)\n"
          ]
        }
      ]
    },
    {
      "cell_type": "code",
      "source": [
        "# Create an instance of the model\n",
        "#model = CNN().to(device)\n",
        "\n",
        "# Define loss function and optimizer\n",
        "criterion = nn.CrossEntropyLoss()\n",
        "optimizer = optim.Adamax(model.parameters())\n",
        "\n",
        "# Training loop\n",
        "train_losses = []\n",
        "val_losses = []"
      ],
      "metadata": {
        "id": "gqmgyZVlnHFq"
      },
      "execution_count": null,
      "outputs": []
    },
    {
      "cell_type": "code",
      "source": [
        "for epoch in range(EPOCHS):\n",
        "    model.train()\n",
        "    running_loss = 0.0\n",
        "    for images, labels in train_loader:\n",
        "        images, labels = images.to(device), labels.to(device)\n",
        "        optimizer.zero_grad()\n",
        "        outputs = model(images)\n",
        "        loss = criterion(outputs, labels)\n",
        "        loss.backward()\n",
        "        optimizer.step()\n",
        "        running_loss += loss.item()\n",
        "    train_losses.append(running_loss / len(train_loader))\n",
        "\n",
        "    model.eval()\n",
        "    val_loss = 0.0\n",
        "    with torch.no_grad():\n",
        "        for images, labels in val_loader:\n",
        "            images, labels = images.to(device), labels.to(device)\n",
        "            outputs = model(images)\n",
        "            loss = criterion(outputs, labels)\n",
        "            val_loss += loss.item()\n",
        "    val_losses.append(val_loss / len(val_loader))\n",
        "\n",
        "    print(f\"Epoch [{epoch + 1}/{EPOCHS}] \"\n",
        "          f\"Train Loss: {train_losses[-1]:.4f} \"\n",
        "          f\"Validation Loss: {val_losses[-1]:.4f}\")"
      ],
      "metadata": {
        "colab": {
          "base_uri": "https://localhost:8080/"
        },
        "id": "YbiftTWonKhc",
        "outputId": "870bddad-c856-48d2-ad5c-78538d1644eb"
      },
      "execution_count": null,
      "outputs": [
        {
          "output_type": "stream",
          "name": "stdout",
          "text": [
            "Epoch [1/50] Train Loss: 4.0234 Validation Loss: 1.0038\n",
            "Epoch [2/50] Train Loss: 0.5582 Validation Loss: 0.4179\n",
            "Epoch [3/50] Train Loss: 0.4139 Validation Loss: 0.3584\n",
            "Epoch [4/50] Train Loss: 0.3706 Validation Loss: 0.3687\n",
            "Epoch [5/50] Train Loss: 0.3680 Validation Loss: 0.3088\n",
            "Epoch [6/50] Train Loss: 0.3443 Validation Loss: 0.2862\n",
            "Epoch [7/50] Train Loss: 0.3059 Validation Loss: 0.3017\n",
            "Epoch [8/50] Train Loss: 0.2864 Validation Loss: 0.2401\n",
            "Epoch [9/50] Train Loss: 0.2441 Validation Loss: 0.2378\n",
            "Epoch [10/50] Train Loss: 0.2466 Validation Loss: 0.2813\n",
            "Epoch [11/50] Train Loss: 0.2342 Validation Loss: 0.2276\n",
            "Epoch [12/50] Train Loss: 0.2265 Validation Loss: 0.2218\n",
            "Epoch [13/50] Train Loss: 0.2186 Validation Loss: 0.2167\n",
            "Epoch [14/50] Train Loss: 0.2096 Validation Loss: 0.2193\n",
            "Epoch [15/50] Train Loss: 0.2059 Validation Loss: 0.2013\n",
            "Epoch [16/50] Train Loss: 0.1960 Validation Loss: 0.2541\n",
            "Epoch [17/50] Train Loss: 0.2358 Validation Loss: 0.2692\n",
            "Epoch [18/50] Train Loss: 0.1853 Validation Loss: 0.1799\n",
            "Epoch [19/50] Train Loss: 0.2068 Validation Loss: 0.1738\n",
            "Epoch [20/50] Train Loss: 0.1990 Validation Loss: 0.1832\n",
            "Epoch [21/50] Train Loss: 0.1646 Validation Loss: 0.1759\n",
            "Epoch [22/50] Train Loss: 0.1717 Validation Loss: 0.1999\n",
            "Epoch [23/50] Train Loss: 0.1537 Validation Loss: 0.1850\n",
            "Epoch [24/50] Train Loss: 0.1391 Validation Loss: 0.1377\n",
            "Epoch [25/50] Train Loss: 0.1671 Validation Loss: 0.1884\n",
            "Epoch [26/50] Train Loss: 0.1423 Validation Loss: 0.1341\n",
            "Epoch [27/50] Train Loss: 0.1461 Validation Loss: 0.1496\n",
            "Epoch [28/50] Train Loss: 0.1450 Validation Loss: 0.1693\n",
            "Epoch [29/50] Train Loss: 0.1387 Validation Loss: 0.2702\n",
            "Epoch [30/50] Train Loss: 0.1858 Validation Loss: 0.1746\n",
            "Epoch [31/50] Train Loss: 0.1363 Validation Loss: 0.1707\n",
            "Epoch [32/50] Train Loss: 0.1464 Validation Loss: 0.1225\n",
            "Epoch [33/50] Train Loss: 0.1062 Validation Loss: 0.1490\n",
            "Epoch [34/50] Train Loss: 0.1081 Validation Loss: 0.1806\n",
            "Epoch [35/50] Train Loss: 0.1187 Validation Loss: 0.1447\n",
            "Epoch [36/50] Train Loss: 0.1419 Validation Loss: 0.1381\n",
            "Epoch [37/50] Train Loss: 0.1176 Validation Loss: 0.1867\n",
            "Epoch [38/50] Train Loss: 0.1068 Validation Loss: 0.1268\n",
            "Epoch [39/50] Train Loss: 0.1109 Validation Loss: 0.1754\n",
            "Epoch [40/50] Train Loss: 0.1082 Validation Loss: 0.1474\n",
            "Epoch [41/50] Train Loss: 0.1013 Validation Loss: 0.1817\n",
            "Epoch [42/50] Train Loss: 0.1346 Validation Loss: 0.1454\n",
            "Epoch [43/50] Train Loss: 0.1198 Validation Loss: 0.1258\n",
            "Epoch [44/50] Train Loss: 0.1059 Validation Loss: 0.1635\n",
            "Epoch [45/50] Train Loss: 0.1271 Validation Loss: 0.1764\n",
            "Epoch [46/50] Train Loss: 0.1058 Validation Loss: 0.1180\n",
            "Epoch [47/50] Train Loss: 0.1130 Validation Loss: 0.1252\n",
            "Epoch [48/50] Train Loss: 0.0747 Validation Loss: 0.1754\n",
            "Epoch [49/50] Train Loss: 0.0894 Validation Loss: 0.2293\n",
            "Epoch [50/50] Train Loss: 0.1162 Validation Loss: 0.1812\n"
          ]
        }
      ]
    },
    {
      "cell_type": "code",
      "source": [
        "from sklearn.metrics import classification_report\n",
        "\n",
        "model.eval()\n",
        "correct = 0\n",
        "total = 0\n",
        "# Calculate and print classification report\n",
        "true_labels = []\n",
        "predicted_labels = []\n",
        "with torch.no_grad():\n",
        "    for images, labels in test_loader:\n",
        "        images, labels = images.to(device), labels.to(device)\n",
        "        outputs = model(images)\n",
        "        _, predicted = torch.max(outputs, 1)\n",
        "        total += labels.size(0)\n",
        "        correct += (predicted == labels).sum().item()\n",
        "        predicted_labels.extend(predicted.tolist())\n",
        "        true_labels.extend(labels.tolist())\n",
        "\n",
        "accuracy = 100 * correct / total\n",
        "print(f\"Accuracy on the test set: {accuracy:}%\")\n",
        "\n",
        "\n",
        "report = classification_report(true_labels, predicted_labels, target_names=class_names)\n",
        "print(report)\n"
      ],
      "metadata": {
        "colab": {
          "base_uri": "https://localhost:8080/"
        },
        "id": "Os7sM0GHnOJC",
        "outputId": "ab79d3f7-e8ee-469d-b8ea-bf355b2d87fc"
      },
      "execution_count": null,
      "outputs": [
        {
          "output_type": "stream",
          "name": "stdout",
          "text": [
            "Accuracy on the test set: 94.52380952380952%\n",
            "                precision    recall  f1-score   support\n",
            "\n",
            "        Blight       0.89      0.94      0.91       123\n",
            "   Common_Rust       1.00      0.93      0.96       129\n",
            "Gray_Leaf_Spot       0.87      0.87      0.87        55\n",
            "       Healthy       0.99      1.00      1.00       113\n",
            "\n",
            "      accuracy                           0.95       420\n",
            "     macro avg       0.94      0.94      0.94       420\n",
            "  weighted avg       0.95      0.95      0.95       420\n",
            "\n"
          ]
        }
      ]
    }
  ]
}